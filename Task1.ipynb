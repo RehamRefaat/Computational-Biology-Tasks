{
 "cells": [
  {
   "cell_type": "markdown",
   "id": "49084644",
   "metadata": {},
   "source": [
    "# Installation"
   ]
  },
  {
   "cell_type": "code",
   "execution_count": 1,
   "id": "9db9d1b1",
   "metadata": {
    "scrolled": true
   },
   "outputs": [
    {
     "name": "stdout",
     "output_type": "stream",
     "text": [
      "Requirement already satisfied: pyopenms in c:\\users\\dell\\anaconda3\\lib\\site-packages (2.7.0)\n",
      "Requirement already satisfied: numpy in c:\\users\\dell\\anaconda3\\lib\\site-packages (from pyopenms) (1.21.5)\n"
     ]
    }
   ],
   "source": [
    "!pip install pyopenms"
   ]
  },
  {
   "cell_type": "markdown",
   "id": "b709a6e4",
   "metadata": {},
   "source": [
    "## Help for pyopenms.Constants"
   ]
  },
  {
   "cell_type": "code",
   "execution_count": 3,
   "id": "4f02de02",
   "metadata": {},
   "outputs": [
    {
     "name": "stdout",
     "output_type": "stream",
     "text": [
      "Help on module pyopenms.Constants in pyopenms:\n",
      "\n",
      "NAME\n",
      "    pyopenms.Constants\n",
      "\n",
      "DESCRIPTION\n",
      "    # @brief Mathematical and physical constants namespace.\n",
      "    # \n",
      "    # This namespace contains definitions for some basic mathematical and physical constants.\n",
      "    # All constants are double precision.\n",
      "\n",
      "DATA\n",
      "    AVOGADRO = 6.0221367e+23\n",
      "    BOHR_RADIUS = 5.29177249e-11\n",
      "    BOLTZMANN = 1.380657e-23\n",
      "    C13C12_MASSDIFF_U = 1.0033548378\n",
      "    CAL_PER_JOULE = 0.2390057361376673\n",
      "    DEG_PER_RAD = 57.29577951308232\n",
      "    E = 2.718281828459045\n",
      "    ELECTRON_MASS = 9.1093897e-31\n",
      "    ELECTRON_MASS_U = 0.0005485799042984105\n",
      "    ELEMENTARY_CHARGE = 1.60217738e-19\n",
      "    EPSILON = 1e-06\n",
      "    F = 96485.31200007845\n",
      "    FARADAY = 96485.31200007845\n",
      "    FINE_STRUCTURE_CONSTANT = 0.00729735\n",
      "    FRAGMENT_ANNOTATION_USERPARAM = 'fragment_annotation'\n",
      "    GAS_CONSTANT = 8.314505189811898\n",
      "    GRAVITATIONAL_CONSTANT = 6.67259e-11\n",
      "    JOULE_PER_CAL = 4.184\n",
      "    MM_PER_INCH = 25.4\n",
      "    MOL = 6.0221367e+23\n",
      "    M_PER_FOOT = 3.048\n",
      "    NA = 6.0221367e+23\n",
      "    NEUTRON_MASS = 1.6749286e-27\n",
      "    NEUTRON_MASS_U = 1.00866491566\n",
      "    PI = 3.141592653589793\n",
      "    PLANCK = 6.6260754e-34\n",
      "    PRECURSOR_ERROR_PPM_USERPARAM = 'precursor_mz_error_ppm'\n",
      "    PROTON_MASS = 1.672623e-27\n",
      "    PROTON_MASS_U = 1.007276466771\n",
      "    R = 8.314505189811898\n",
      "    RAD_PER_DEG = 0.017453292519943295\n",
      "    SPEED_OF_LIGHT = 299792458.0\n",
      "    VACUUM_PERMEABILITY = 1.2566370614359173e-06\n",
      "    VACUUM_PERMITTIVITY = 8.85419e-12\n",
      "    a0 = 5.29177249e-11\n",
      "    c = 299792458.0\n",
      "    e0 = 1.60217738e-19\n",
      "    h = 6.6260754e-34\n",
      "    k = 1.380657e-23\n",
      "\n",
      "FILE\n",
      "    c:\\users\\dell\\anaconda3\\lib\\site-packages\\pyopenms\\constants.py\n",
      "\n",
      "\n",
      "Avogadro's number =  6.0221367e+23\n",
      "Avogadro's number =  6.0221367e+23\n"
     ]
    }
   ],
   "source": [
    "import pyopenms\n",
    "help(pyopenms.Constants)\n",
    "print (\"Avogadro's number = \", pyopenms.Constants.AVOGADRO)\n",
    "print (\"Avogadro's number = \", pyopenms.Constants.NA)\n"
   ]
  },
  {
   "cell_type": "markdown",
   "id": "ee5a2150",
   "metadata": {},
   "source": [
    "# Oxygen Code :"
   ]
  },
  {
   "cell_type": "code",
   "execution_count": 34,
   "id": "27ec6212",
   "metadata": {
    "scrolled": true
   },
   "outputs": [
    {
     "name": "stdout",
     "output_type": "stream",
     "text": [
      "True\n",
      " Name: Oxygen \n",
      " Symbol: O \n",
      " MonoWeight: 15.994915 \n",
      " Average Weight: 15.999405323160001\n"
     ]
    }
   ],
   "source": [
    "from pyopenms import *\n",
    "ele=ElementDB()\n",
    "print(ele.hasElement(\"O\"))\n",
    "oxygen=ele.getElement(\"O\")\n",
    "print(\" Name:\",oxygen.getName(),\"\\n\",\"Symbol:\",oxygen.getSymbol(),\"\\n\",\"MonoWeight:\",oxygen.getMonoWeight(),\"\\n\",\"Average Weight:\",oxygen.getAverageWeight())\n",
    "print (\"One mole of oxygen weighs\", 2*oxygen.getAverageWeight(), \"grams\")\n",
    "print (\"One mole of 16O2 weighs\", 2*oxygen.getMonoWeight(), \"grams\")"
   ]
  },
  {
   "cell_type": "markdown",
   "id": "a6824a9d",
   "metadata": {},
   "source": [
    "### Oxygen Isotopes:"
   ]
  },
  {
   "cell_type": "code",
   "execution_count": 33,
   "id": "6e6a12ed",
   "metadata": {},
   "outputs": [
    {
     "name": "stdout",
     "output_type": "stream",
     "text": [
      "Oxygen isotope = 15.994915 has abundance = 99.75699782371521 %\n",
      "Oxygen isotope = 16.999132 has abundance = 0.03800000122282654 %\n",
      "Oxygen isotope = 17.999169 has abundance = 0.20500000100582838 %\n"
     ]
    }
   ],
   "source": [
    "oxygen_Dist = {\"mass\": [], \"abundance\": []}\n",
    "isotopes = oxygen.getIsotopeDistribution()\n",
    "for iso in isotopes.getContainer():\n",
    "    print (\"Oxygen isotope =\", iso.getMZ(), \"has abundance =\", iso.getIntensity()*100, \"%\")\n",
    "    oxygen_Dist[\"mass\"].append(iso.getMZ())\n",
    "    oxygen_Dist[\"abundance\"].append((iso.getIntensity() * 100))"
   ]
  },
  {
   "cell_type": "markdown",
   "id": "0d060b07",
   "metadata": {},
   "source": [
    "# Sulfur Code :\n"
   ]
  },
  {
   "cell_type": "code",
   "execution_count": 35,
   "id": "735827ac",
   "metadata": {},
   "outputs": [
    {
     "name": "stdout",
     "output_type": "stream",
     "text": [
      "True\n",
      " Name: Sulfur \n",
      " Symbol: S \n",
      " MonoWeight: 31.97207073 \n",
      " Average Weight: 32.066084735289\n"
     ]
    }
   ],
   "source": [
    "print(ele.hasElement(\"S\"))\n",
    "sulfur = ele.getElement(\"S\")\n",
    "print(\" Name:\",sulfur.getName(),\"\\n\",\"Symbol:\",sulfur.getSymbol(),\"\\n\",\"MonoWeight:\",sulfur.getMonoWeight(),\"\\n\",\"Average Weight:\",sulfur.getAverageWeight())"
   ]
  },
  {
   "cell_type": "markdown",
   "id": "543f6a35",
   "metadata": {},
   "source": [
    "### Sulfur Isotopes :"
   ]
  },
  {
   "cell_type": "code",
   "execution_count": 36,
   "id": "f2c13622",
   "metadata": {},
   "outputs": [
    {
     "name": "stdout",
     "output_type": "stream",
     "text": [
      "Sulfur isotope = 31.97207073 has abundance = 94.92999911308289 %\n",
      "Sulfur isotope = 32.971458 has abundance = 0.7600000128149986 %\n",
      "Sulfur isotope = 33.967867 has abundance = 4.2899999767541885 %\n",
      "Sulfur isotope = 35.967081 has abundance = 0.019999999494757503 %\n"
     ]
    }
   ],
   "source": [
    "sulfur_Dist = {\"mass\": [], \"abundance\": []}\n",
    "sulfur = ele.getElement(\"S\")\n",
    "isotopes = sulfur.getIsotopeDistribution()\n",
    "for iso in isotopes.getContainer():\n",
    "    print (\"Sulfur isotope =\", iso.getMZ(), \"has abundance =\", iso.getIntensity()*100, \"%\")\n",
    "    sulfur_Dist[\"mass\"].append(iso.getMZ())\n",
    "    sulfur_Dist[\"abundance\"].append((iso.getIntensity() * 100))"
   ]
  },
  {
   "cell_type": "markdown",
   "id": "ac7ac9d1",
   "metadata": {},
   "source": [
    "# Molecular Formula :"
   ]
  },
  {
   "cell_type": "code",
   "execution_count": 52,
   "id": "48361ac3",
   "metadata": {
    "scrolled": true
   },
   "outputs": [
    {
     "name": "stdout",
     "output_type": "stream",
     "text": [
      "Ethanol chemical formula: C2H6O1\n",
      "Ethanol composition: {b'C': 2, b'H': 6, b'O': 1}\n",
      "Ethanol has 6 hydrogen atoms\n",
      "Ethanol weight: 46.0418651914\n",
      "Ethanol chemical formula: (13)C2H6O1\n",
      "Ethanol composition: {b'(13)C': 2, b'H': 6, b'O': 1}\n",
      "Ethanol weight: 48.048575191400005\n"
     ]
    }
   ],
   "source": [
    "methanol = EmpiricalFormula(\"CH3OH\")\n",
    "ethanol = EmpiricalFormula(\"CH2\") + methanol\n",
    "#I can remove tostring()\n",
    "print(\"Ethanol chemical formula:\", ethanol.toString())\n",
    "print(\"Ethanol composition:\", ethanol.getElementalComposition())\n",
    "print(\"Ethanol has\", ethanol.getElementalComposition()[b\"H\"], \"hydrogen atoms\")\n",
    "print(\"Ethanol weight:\", ethanol.getMonoWeight())\n",
    "\n",
    "#------------------------------------------------------------------------------\n",
    "\n",
    "#Carbon 13\n",
    "ethanol = EmpiricalFormula(\"(13)C2H6O\")\n",
    "print(\"Ethanol chemical formula:\", ethanol.toString())\n",
    "print(\"Ethanol composition:\", ethanol.getElementalComposition())\n",
    "print(\"Ethanol weight:\", ethanol.getMonoWeight())"
   ]
  },
  {
   "cell_type": "markdown",
   "id": "12040953",
   "metadata": {},
   "source": [
    "# Amino Acids :"
   ]
  },
  {
   "cell_type": "code",
   "execution_count": 76,
   "id": "ff242fed",
   "metadata": {},
   "outputs": [
    {
     "name": "stdout",
     "output_type": "stream",
     "text": [
      " Name : Valine \n",
      " Three Letter : Val \n",
      " One Letter : V \n",
      " Average Weight  117.14658151860635 \n",
      " Mono Weight : 117.0789793509 \n",
      " 2.39 \n",
      " Formula : C5H11N1O2\n"
     ]
    }
   ],
   "source": [
    "val = ResidueDB().getResidue(\"Valine\")\n",
    "print(\" Name :\",val.getName(),\"\\n\",\"Three Letter :\",val.getThreeLetterCode(),\"\\n\",\"One Letter :\",val.getOneLetterCode(),\"\\n\",\"Average Weight \",val.getAverageWeight(),\"\\n\",\"Mono Weight :\",val.getMonoWeight(),\"\\n\",val.getPka(),\"\\n\",\"Formula :\",val.getFormula())"
   ]
  },
  {
   "cell_type": "markdown",
   "id": "bd6ca4d2",
   "metadata": {},
   "source": [
    "# Ribonucleotides :"
   ]
  },
  {
   "cell_type": "code",
   "execution_count": 96,
   "id": "b754ab6f",
   "metadata": {},
   "outputs": [
    {
     "name": "stdout",
     "output_type": "stream",
     "text": [
      " Name : adenosine \n",
      " Letter : A \n",
      " AvgMass : 267.2449 \n",
      " MonoMass : 267.0968 \n",
      " Formula : C10H13N5O4 \n",
      " Modified : False\n",
      "1-methylguanosine\n",
      "True\n",
      "1-methyladenosine\n",
      "True\n"
     ]
    }
   ],
   "source": [
    "Adenosine = RibonucleotideDB().getRibonucleotide(b\"A\")\n",
    "print(\" Name :\",Adenosine.getName(),\"\\n\",\"Letter :\",Adenosine.getCode(),\"\\n\",\"AvgMass :\",Adenosine.getAvgMass(),\"\\n\",\"MonoMass :\",Adenosine.getMonoMass(),\"\\n\",\"Formula :\",Adenosine.getFormula(),\"\\n\",\"Modified :\",Adenosine.isModified())\n",
    "\n",
    "methyladenosine = RibonucleotideDB().getRibonucleotide(b\"m1G\")\n",
    "print(methyladenosine.getName())\n",
    "print(methyladenosine.isModified())\n",
    "methyladenosine = RibonucleotideDB().getRibonucleotide(b\"m1A\")\n",
    "print(methyladenosine.getName())\n",
    "print(methyladenosine.isModified())"
   ]
  },
  {
   "cell_type": "markdown",
   "id": "10e62079",
   "metadata": {},
   "source": [
    "# Mass Defect :"
   ]
  },
  {
   "cell_type": "code",
   "execution_count": 100,
   "id": "895ae663",
   "metadata": {},
   "outputs": [
    {
     "name": "stdout",
     "output_type": "stream",
     "text": [
      "Mass difference between 12C and 13C: 1.0033550000000009\n",
      "Mass difference between 14N and N15: 0.9970350000000003\n",
      "Relative deviation: 0.6298867300208343 %\n"
     ]
    }
   ],
   "source": [
    "ele = ElementDB()\n",
    "isotopes_C = ele.getElement(\"C\").getIsotopeDistribution().getContainer()\n",
    "carbon_isotope= isotopes_C[1].getMZ() - isotopes_C[0].getMZ()\n",
    "isotopes_N = ele.getElement(\"N\").getIsotopeDistribution().getContainer()\n",
    "nitrogen_isotope = isotopes_N[1].getMZ() - isotopes_N[0].getMZ()\n",
    "\n",
    "print (\"Mass difference between 12C and 13C:\", carbon_isotope)\n",
    "print (\"Mass difference between 14N and N15:\", nitrogen_isotope)\n",
    "print (\"Relative deviation:\", 100*(carbon_isotope -\n",
    "        nitrogen_isotope)/carbon_isotope, \"%\")"
   ]
  }
 ],
 "metadata": {
  "kernelspec": {
   "display_name": "Python 3 (ipykernel)",
   "language": "python",
   "name": "python3"
  },
  "language_info": {
   "codemirror_mode": {
    "name": "ipython",
    "version": 3
   },
   "file_extension": ".py",
   "mimetype": "text/x-python",
   "name": "python",
   "nbconvert_exporter": "python",
   "pygments_lexer": "ipython3",
   "version": "3.9.12"
  },
  "varInspector": {
   "cols": {
    "lenName": 16,
    "lenType": 16,
    "lenVar": 40
   },
   "kernels_config": {
    "python": {
     "delete_cmd_postfix": "",
     "delete_cmd_prefix": "del ",
     "library": "var_list.py",
     "varRefreshCmd": "print(var_dic_list())"
    },
    "r": {
     "delete_cmd_postfix": ") ",
     "delete_cmd_prefix": "rm(",
     "library": "var_list.r",
     "varRefreshCmd": "cat(var_dic_list()) "
    }
   },
   "types_to_exclude": [
    "module",
    "function",
    "builtin_function_or_method",
    "instance",
    "_Feature"
   ],
   "window_display": false
  }
 },
 "nbformat": 4,
 "nbformat_minor": 5
}
