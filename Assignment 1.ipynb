{
 "cells": [
  {
   "cell_type": "code",
   "execution_count": 11,
   "id": "ffe15f00",
   "metadata": {},
   "outputs": [
    {
     "name": "stdout",
     "output_type": "stream",
     "text": [
      "Valine : 117.0789793509\n",
      "Alanine : 89.0476792233\n",
      "Lysine : 146.1055284466\n",
      "Alanine : 89.0476792233\n",
      "\n",
      "Mass(VAKA)= 387.2481710527\n",
      "Mass(V)+Mass(A)+Mass(K)+Mass(A)= 441.2798662441\n"
     ]
    }
   ],
   "source": [
    "from pyopenms import *\n",
    "seq = AASequence.fromString(\"VAKA\")\n",
    "mw=0\n",
    "for aa in seq:\n",
    "    mw+=aa.getMonoWeight()\n",
    "    print(aa.getName(), \":\", aa.getMonoWeight())\n",
    "    \n",
    "print(\"\\nMass(VAKA)=\",seq.getMonoWeight()) \n",
    "print(\"Mass(V)+Mass(A)+Mass(K)+Mass(A)=\",mw)\n"
   ]
  },
  {
   "cell_type": "code",
   "execution_count": null,
   "id": "f7b65daf",
   "metadata": {},
   "outputs": [],
   "source": []
  }
 ],
 "metadata": {
  "kernelspec": {
   "display_name": "Python 3 (ipykernel)",
   "language": "python",
   "name": "python3"
  },
  "language_info": {
   "codemirror_mode": {
    "name": "ipython",
    "version": 3
   },
   "file_extension": ".py",
   "mimetype": "text/x-python",
   "name": "python",
   "nbconvert_exporter": "python",
   "pygments_lexer": "ipython3",
   "version": "3.9.12"
  },
  "varInspector": {
   "cols": {
    "lenName": 16,
    "lenType": 16,
    "lenVar": 40
   },
   "kernels_config": {
    "python": {
     "delete_cmd_postfix": "",
     "delete_cmd_prefix": "del ",
     "library": "var_list.py",
     "varRefreshCmd": "print(var_dic_list())"
    },
    "r": {
     "delete_cmd_postfix": ") ",
     "delete_cmd_prefix": "rm(",
     "library": "var_list.r",
     "varRefreshCmd": "cat(var_dic_list()) "
    }
   },
   "types_to_exclude": [
    "module",
    "function",
    "builtin_function_or_method",
    "instance",
    "_Feature"
   ],
   "window_display": false
  }
 },
 "nbformat": 4,
 "nbformat_minor": 5
}
