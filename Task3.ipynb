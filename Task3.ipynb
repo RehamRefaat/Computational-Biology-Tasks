{
 "cells": [
  {
   "cell_type": "markdown",
   "id": "f1867074",
   "metadata": {},
   "source": [
    "## amino acid sequences [Prefix&Suffix]"
   ]
  },
  {
   "cell_type": "code",
   "execution_count": 15,
   "id": "faa6c605",
   "metadata": {},
   "outputs": [
    {
     "name": "stdout",
     "output_type": "stream",
     "text": [
      "Sequence: DFPIANGER \n",
      "Prefix: DFPI \n",
      "Suffix: ANGER \n",
      "Concatenated: DFPIANGERDFPIANGER\n"
     ]
    }
   ],
   "source": [
    "from pyopenms import *\n",
    "seq = AASequence.fromString(\"DFPIANGER\")\n",
    "pre = seq.getPrefix(4)\n",
    "suf = seq.getSuffix(5)\n",
    "con = seq + seq\n",
    "print(\"Sequence:\", seq,\"\\nPrefix:\", pre,\"\\nSuffix:\", suf,\"\\nConcatenated:\", con)"
   ]
  },
  {
   "cell_type": "markdown",
   "id": "f22bd335",
   "metadata": {},
   "source": [
    "## Mono Isotopic Weight"
   ]
  },
  {
   "cell_type": "code",
   "execution_count": 16,
   "id": "0d60447a",
   "metadata": {},
   "outputs": [
    {
     "name": "stdout",
     "output_type": "stream",
     "text": [
      "Monoisotopic mass of peptide [M] is 1017.4879641373001\n",
      "Monoisotopic mass of peptide precursor [M+2H]2+ is 1019.5025170708419\n",
      "Monoisotopic m/z of [M+2H]2+ is 509.75125853542096\n"
     ]
    }
   ],
   "source": [
    "totalM=seq.getMonoWeight()\n",
    "proton = seq.getMonoWeight(Residue.ResidueType.Full, 2)\n",
    "#Two ways to calculate mz\n",
    "mz = seq.getMonoWeight(Residue.ResidueType.Full, 2) / 2.0\n",
    "#mz = seq.getMZ(2)\n",
    "\n",
    "print(\"Monoisotopic mass of peptide [M] is\", totalM)\n",
    "print(\"Monoisotopic mass of peptide precursor [M+2H]2+ is\", proton)\n",
    "print(\"Monoisotopic m/z of [M+2H]2+ is\", mz)"
   ]
  },
  {
   "cell_type": "code",
   "execution_count": 19,
   "id": "24daff40",
   "metadata": {},
   "outputs": [
    {
     "name": "stdout",
     "output_type": "stream",
     "text": [
      "The peptide DFPIANGER consists of the following amino acids:\n",
      "Aspartate : 133.0375092233\n",
      "Phenylalanine : 165.0789793509\n",
      "Proline : 115.06332928709999\n",
      "Isoleucine : 131.0946294147\n",
      "Alanine : 89.0476792233\n",
      "Asparagine : 132.0534932552\n",
      "Glycine : 75.0320291595\n",
      "Glutamate : 147.0531592871\n",
      "Arginine : 174.1116764466\n"
     ]
    }
   ],
   "source": [
    "seq = AASequence.fromString(\"DFPIANGER\")\n",
    "print(\"The peptide\", str(seq), \"consists of the following amino acids:\")\n",
    "for s in seq:\n",
    "    print(s.getName(), \":\", s.getMonoWeight())"
   ]
  },
  {
   "cell_type": "markdown",
   "id": "fda497ad",
   "metadata": {},
   "source": [
    "## Molecular formula"
   ]
  },
  {
   "cell_type": "code",
   "execution_count": 20,
   "id": "645cd936",
   "metadata": {},
   "outputs": [
    {
     "name": "stdout",
     "output_type": "stream",
     "text": [
      "Peptide DFPIANGER has molecular formula C44H67N13O15\n"
     ]
    }
   ],
   "source": [
    "seq = AASequence.fromString(\"DFPIANGER\")\n",
    "seq_formula = seq.getFormula()\n",
    "print(\"Peptide\", seq, \"has molecular formula\", seq_formula)"
   ]
  },
  {
   "cell_type": "code",
   "execution_count": 23,
   "id": "02f041ef",
   "metadata": {},
   "outputs": [
    {
     "name": "stdout",
     "output_type": "stream",
     "text": [
      "y3 ion sequence: GER\n",
      "y3 molecular formula: C13H24N6O6\n",
      "y3 mz: 181.09514384957103\n"
     ]
    }
   ],
   "source": [
    "suffix = seq.getSuffix(3) # y3 ion \"GER\"\n",
    "print(\"y3 ion sequence:\", suffix)\n",
    "y3_formula = suffix.getFormula(Residue.ResidueType.YIon, 2)\n",
    "print(\"y3 molecular formula:\", y3_formula)\n",
    "print(\"y3 mz:\", suffix.getMonoWeight(Residue.ResidueType.YIon, 2) / 2.0 )\n"
   ]
  },
  {
   "cell_type": "markdown",
   "id": "d552bb3d",
   "metadata": {},
   "source": [
    "## Modified Sequences"
   ]
  },
  {
   "cell_type": "code",
   "execution_count": 25,
   "id": "3a0fb2bd",
   "metadata": {},
   "outputs": [
    {
     "name": "stdout",
     "output_type": "stream",
     "text": [
      "PEPTIDESEKUEMCER\n",
      "PEPTIDESEKUEM(Oxidation)CER\n",
      "PEPTIDESEKUEM(UniMod:35)CER\n",
      "PEPTIDESEKUEM[147]CER\n",
      "PEPTIDESEKUEM[147.035400017100017]CER\n",
      "DFPIAM(Oxidation)GER\n",
      "DFPIAM(Oxidation)GER\n",
      "DFPIAM(Oxidation)GER\n",
      "DFPIAM(Oxidation)GER\n",
      "DFPIAM(Oxidation)GER\n"
     ]
    }
   ],
   "source": [
    "seq = AASequence.fromString(\"PEPTIDESEKUEM(Oxidation)CER\")\n",
    "print(seq.toUnmodifiedString())\n",
    "print(seq.toString())\n",
    "print(seq.toUniModString())\n",
    "print(seq.toBracketString())\n",
    "print(seq.toBracketString(False))\n",
    "print(AASequence.fromString(\"DFPIAM(UniMod:35)GER\"))\n",
    "\n",
    "print(AASequence.fromString(\"DFPIAM[+16]GER\"))\n",
    "\n",
    "print(AASequence.fromString(\"DFPIAM[+15.99]GER\"))\n",
    "\n",
    "print(AASequence.fromString(\"DFPIAM[147]GER\"))\n",
    "\n",
    "print(AASequence.fromString(\"DFPIAM[147.035405]GER\"))"
   ]
  },
  {
   "cell_type": "markdown",
   "id": "69633c78",
   "metadata": {},
   "source": [
    "## Write in fasta file"
   ]
  },
  {
   "cell_type": "code",
   "execution_count": 30,
   "id": "8f9746ca",
   "metadata": {},
   "outputs": [],
   "source": [
    "bsa = FASTAEntry()\n",
    "\n",
    "bsa.sequence = \"MKWVTFISLLLLFSSAYSRGVFRRDTHKSEIAHRFKDLGE\"\n",
    "\n",
    "bsa.description = \"BSA Bovine Albumin (partial sequence)\"\n",
    "\n",
    "bsa.identifier = \"BSA\"\n",
    "\n",
    "alb = FASTAEntry()\n",
    "\n",
    "alb.sequence = \"MKWVTFISLLFLFSSAYSRGVFRRDAHKSEVAHRFKDLGE\"\n",
    "\n",
    "alb.description = \"ALB Human Albumin (partial sequence)\"\n",
    "\n",
    "alb.identifier = \"ALB\"\n",
    "\n",
    "entries = [bsa, alb]\n",
    "\n",
    "file = FASTAFile()\n",
    "\n",
    "file.store(\"example.fasta\", entries)"
   ]
  },
  {
   "cell_type": "markdown",
   "id": "1cb78a5b",
   "metadata": {},
   "source": [
    "## Read fasta file"
   ]
  },
  {
   "cell_type": "code",
   "execution_count": 31,
   "id": "90248b3f",
   "metadata": {
    "scrolled": true
   },
   "outputs": [
    {
     "name": "stdout",
     "output_type": "stream",
     "text": [
      "2\n",
      "BSA MKWVTFISLLLLFSSAYSRGVFRRDTHKSEIAHRFKDLGE\n",
      "ALB MKWVTFISLLFLFSSAYSRGVFRRDAHKSEVAHRFKDLGE\n"
     ]
    }
   ],
   "source": [
    "entries = []\n",
    "file = FASTAFile()\n",
    "file.load(\"example.fasta\", entries)\n",
    "print(len(entries))\n",
    "for en in entries:\n",
    "    print (en.identifier, en.sequence)"
   ]
  }
 ],
 "metadata": {
  "kernelspec": {
   "display_name": "Python 3 (ipykernel)",
   "language": "python",
   "name": "python3"
  },
  "language_info": {
   "codemirror_mode": {
    "name": "ipython",
    "version": 3
   },
   "file_extension": ".py",
   "mimetype": "text/x-python",
   "name": "python",
   "nbconvert_exporter": "python",
   "pygments_lexer": "ipython3",
   "version": "3.9.12"
  },
  "varInspector": {
   "cols": {
    "lenName": 16,
    "lenType": 16,
    "lenVar": 40
   },
   "kernels_config": {
    "python": {
     "delete_cmd_postfix": "",
     "delete_cmd_prefix": "del ",
     "library": "var_list.py",
     "varRefreshCmd": "print(var_dic_list())"
    },
    "r": {
     "delete_cmd_postfix": ") ",
     "delete_cmd_prefix": "rm(",
     "library": "var_list.r",
     "varRefreshCmd": "cat(var_dic_list()) "
    }
   },
   "types_to_exclude": [
    "module",
    "function",
    "builtin_function_or_method",
    "instance",
    "_Feature"
   ],
   "window_display": false
  }
 },
 "nbformat": 4,
 "nbformat_minor": 5
}
