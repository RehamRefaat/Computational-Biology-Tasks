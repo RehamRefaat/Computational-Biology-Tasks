{
 "cells": [
  {
   "cell_type": "markdown",
   "id": "d5e0ae2c",
   "metadata": {},
   "source": [
    "# Task 2"
   ]
  },
  {
   "cell_type": "markdown",
   "id": "5bd007aa",
   "metadata": {},
   "source": [
    "## Display xml file"
   ]
  },
  {
   "cell_type": "code",
   "execution_count": 1,
   "id": "649eeb5b",
   "metadata": {},
   "outputs": [
    {
     "name": "stdout",
     "output_type": "stream",
     "text": [
      "<?xml version=\"1.0\" encoding=\"UTF-8\"?>\n",
      "<School>\n",
      "<Student gender=\"Male\">\n",
      "<name type=\"fullname\">Ahmed Ali</name>\n",
      "<age>10</age>\n",
      "<degree>95/100</degree>\n",
      "</Student>\n",
      "<Student gender=\"Female\">\n",
      "<name type=\"fullname\">Sara Emad</name>\n",
      "<age>11</age>\n",
      "<degree>90/100</degree>\n",
      "</Student>\n",
      "<Student gender=\"Female\">\n",
      "<name type=\"fullname\">Rana Ahmed</name>\n",
      "<age>12</age>\n",
      "<degree>85/100</degree>\n",
      "</Student>\n",
      "</School>\n"
     ]
    }
   ],
   "source": [
    "with open(\"student.xml\") as file:\n",
    "    for f in file:\n",
    "        print(f.strip())"
   ]
  },
  {
   "cell_type": "markdown",
   "id": "335e04c5",
   "metadata": {},
   "source": [
    "## Print root "
   ]
  },
  {
   "cell_type": "code",
   "execution_count": 3,
   "id": "85bee595",
   "metadata": {},
   "outputs": [
    {
     "name": "stdout",
     "output_type": "stream",
     "text": [
      "Xml root : School\n"
     ]
    }
   ],
   "source": [
    "import xml.etree.ElementTree as ET\n",
    "tree=ET.parse(\"student.xml\")\n",
    "root=tree.getroot()\n",
    "print(\"Xml root :\",root.tag)"
   ]
  },
  {
   "cell_type": "markdown",
   "id": "95482dc2",
   "metadata": {},
   "source": [
    "## Child tages & attributes"
   ]
  },
  {
   "cell_type": "code",
   "execution_count": 4,
   "id": "ef535dc9",
   "metadata": {},
   "outputs": [
    {
     "name": "stdout",
     "output_type": "stream",
     "text": [
      "Student {'gender': 'Male'}\n",
      "Student {'gender': 'Female'}\n",
      "Student {'gender': 'Female'}\n"
     ]
    }
   ],
   "source": [
    "for child in root:\n",
    "    print(child.tag,child.attrib)"
   ]
  },
  {
   "cell_type": "markdown",
   "id": "f372b473",
   "metadata": {},
   "source": [
    "## Student One Information"
   ]
  },
  {
   "cell_type": "code",
   "execution_count": 8,
   "id": "3f024b14",
   "metadata": {},
   "outputs": [
    {
     "name": "stdout",
     "output_type": "stream",
     "text": [
      "Student name : Ahmed Ali\n",
      "Student age : 10\n",
      "Student degree : 95/100\n"
     ]
    }
   ],
   "source": [
    "print(\"Student name :\",root[0][0].text)\n",
    "print(\"Student age :\",root[0][1].text)\n",
    "print(\"Student degree :\",root[0][2].text)\n"
   ]
  },
  {
   "cell_type": "code",
   "execution_count": 9,
   "id": "b1845e4b",
   "metadata": {},
   "outputs": [
    {
     "name": "stdout",
     "output_type": "stream",
     "text": [
      "{'type': 'fullname'}\n",
      "{'type': 'fullname'}\n",
      "{'type': 'fullname'}\n"
     ]
    }
   ],
   "source": [
    "for name in root.iter('name'):\n",
    "    print(name.attrib)"
   ]
  },
  {
   "cell_type": "markdown",
   "id": "55f1bd3b",
   "metadata": {},
   "source": [
    "## Reading and writing in a Text file"
   ]
  },
  {
   "cell_type": "code",
   "execution_count": 10,
   "id": "d0fe9622",
   "metadata": {},
   "outputs": [
    {
     "name": "stdout",
     "output_type": "stream",
     "text": [
      "My Name is Reham Refaat Zaki Ali\n"
     ]
    }
   ],
   "source": [
    "file=open(\"test.txt\",\"w\")\n",
    "file.write(\"My Name is Reham Refaat Zaki Ali\")\n",
    "file.close()\n",
    "\n",
    "file=open(\"test.txt\",\"r\")\n",
    "print(file.read())\n",
    "file.close()"
   ]
  },
  {
   "cell_type": "markdown",
   "id": "8da13086",
   "metadata": {},
   "source": [
    "## Reading and writing in a Binary file"
   ]
  },
  {
   "cell_type": "code",
   "execution_count": 13,
   "id": "d1ad48ee",
   "metadata": {},
   "outputs": [
    {
     "name": "stdout",
     "output_type": "stream",
     "text": [
      "b'My Name is Reham Refaat Zaki Ali'\n"
     ]
    }
   ],
   "source": [
    "file=open(\"test.bin\",\"wb\")\n",
    "file.write(b\"My Name is Reham Refaat Zaki Ali\")\n",
    "file.close()\n",
    "file=open(\"test.txt\",\"rb\")\n",
    "print(file.read())\n",
    "file.close()"
   ]
  },
  {
   "cell_type": "markdown",
   "id": "d42cdc78",
   "metadata": {},
   "source": [
    "## Reading and writing Array in a Binary file"
   ]
  },
  {
   "cell_type": "code",
   "execution_count": 19,
   "id": "d299d7b6",
   "metadata": {},
   "outputs": [
    {
     "name": "stdout",
     "output_type": "stream",
     "text": [
      "[1, 2, 3, 4]\n"
     ]
    }
   ],
   "source": [
    "arr=[1,2,3,4]\n",
    "fileB=open(\"array.bin\",\"wb\")\n",
    "a=bytearray(arr)\n",
    "fileB.write(a)\n",
    "fileB.close()\n",
    "\n",
    "fileB=open(\"array.bin\",\"rb\")\n",
    "print(list(fileB.read()))\n",
    "fileB.close()"
   ]
  }
 ],
 "metadata": {
  "kernelspec": {
   "display_name": "Python 3 (ipykernel)",
   "language": "python",
   "name": "python3"
  },
  "language_info": {
   "codemirror_mode": {
    "name": "ipython",
    "version": 3
   },
   "file_extension": ".py",
   "mimetype": "text/x-python",
   "name": "python",
   "nbconvert_exporter": "python",
   "pygments_lexer": "ipython3",
   "version": "3.9.12"
  },
  "varInspector": {
   "cols": {
    "lenName": 16,
    "lenType": 16,
    "lenVar": 40
   },
   "kernels_config": {
    "python": {
     "delete_cmd_postfix": "",
     "delete_cmd_prefix": "del ",
     "library": "var_list.py",
     "varRefreshCmd": "print(var_dic_list())"
    },
    "r": {
     "delete_cmd_postfix": ") ",
     "delete_cmd_prefix": "rm(",
     "library": "var_list.r",
     "varRefreshCmd": "cat(var_dic_list()) "
    }
   },
   "types_to_exclude": [
    "module",
    "function",
    "builtin_function_or_method",
    "instance",
    "_Feature"
   ],
   "window_display": false
  }
 },
 "nbformat": 4,
 "nbformat_minor": 5
}
